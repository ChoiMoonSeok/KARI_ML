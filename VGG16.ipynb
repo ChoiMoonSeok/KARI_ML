{
 "cells": [
  {
   "cell_type": "markdown",
   "metadata": {},
   "source": [
    "# VGG16\n",
    "object detection에 필요한 특징을 추출하기 위해 백본으로 사용\n",
    "\n",
    "### 참고자료\n",
    "- https://wjunsea.tistory.com/94\n",
    "- https://hwanny-yy.tistory.com/11\n",
    "- https://yazaki.tistory.com/24\n",
    "- https://beginnerdeveloper-lit.tistory.com/158\n",
    "- https://datasirup.tistory.com/118\n",
    "\n",
    "### 위성 데이터셋\n",
    "- https://data.mendeley.com/datasets/bkxj8z84m9/3\n",
    "- https://www.kaggle.com/datasets/jiayuanchengala/aid-scene-classification-datasets\n"
   ]
  },
  {
   "cell_type": "markdown",
   "metadata": {},
   "source": [
    "## 라이브러리 호출"
   ]
  },
  {
   "cell_type": "code",
   "execution_count": 1,
   "metadata": {},
   "outputs": [],
   "source": [
    "import tensorflow as tf\n",
    "from tensorflow.keras import layers\n",
    "from tensorflow.keras.preprocessing.image import ImageDataGenerator\n",
    "import os\n",
    "import shutil\n",
    "import numpy as np\n",
    "import cv2\n",
    "import matplotlib.pyplot as plt\n",
    "from tensorflow.python.client import device_lib"
   ]
  },
  {
   "cell_type": "code",
   "execution_count": 2,
   "metadata": {},
   "outputs": [
    {
     "name": "stdout",
     "output_type": "stream",
     "text": [
      "[PhysicalDevice(name='/physical_device:GPU:0', device_type='GPU')]\n"
     ]
    }
   ],
   "source": [
    "gpus = tf.config.experimental.list_physical_devices('GPU')\n",
    "print(gpus)\n",
    "if gpus:  # gpu가 있다면, 용량 한도를 5GB로 설정\n",
    "  tf.config.experimental.set_virtual_device_configuration(gpus[0], \n",
    "        [tf.config.experimental.VirtualDeviceConfiguration(memory_limit=5*1024)])"
   ]
  },
  {
   "cell_type": "markdown",
   "metadata": {},
   "source": [
    "## VGG16 정의"
   ]
  },
  {
   "cell_type": "code",
   "execution_count": 3,
   "metadata": {},
   "outputs": [],
   "source": [
    "def VGG16():\n",
    "    model = tf.keras.models.Sequential([\n",
    "        # input = 224 x 224 x 3\n",
    "\n",
    "        # 224 x 224 x 64\n",
    "        layers.Conv2D(64, (3, 3), strides=1, padding='same', activation='relu', input_shape=(224, 224, 3)),\n",
    "        layers.Conv2D(64, (3, 3), strides=1, padding='same', activation='relu'),\n",
    "\n",
    "        # 112 x 112 x 64\n",
    "        layers.MaxPool2D((2, 2), padding='same'),\n",
    "\n",
    "        # 112 x 112 x 128\n",
    "        layers.Conv2D(128, (3, 3), strides=1, padding='same', activation='relu'),\n",
    "        layers.Conv2D(128, (3, 3), strides=1, padding='same', activation='relu'),\n",
    "\n",
    "        # 56 x 56 x 128\n",
    "        layers.MaxPool2D((2, 2), padding='same'),\n",
    "\n",
    "        # 56 x 56 x 256\n",
    "        layers.Conv2D(256, (3, 3), strides=1, padding='same', activation='relu'),\n",
    "        layers.Conv2D(256, (3, 3), strides=1, padding='same', activation='relu'),\n",
    "        layers.Conv2D(256, (3, 3), strides=1, padding='same', activation='relu'),\n",
    "\n",
    "        # 28 x 28 x 256\n",
    "        layers.MaxPool2D((2, 2), padding='same'),\n",
    "\n",
    "        # 28 x 28 x 512\n",
    "        layers.Conv2D(512, (3, 3), strides=1, padding='same', activation='relu'),\n",
    "        layers.Conv2D(512, (3, 3), strides=1, padding='same', activation='relu'),\n",
    "        layers.Conv2D(512, (3, 3), strides=1, padding='same', activation='relu'),\n",
    "\n",
    "        # 14 x 14 x 512\n",
    "        layers.MaxPool2D((2, 2), padding='same'),\n",
    "\n",
    "        # 14 x 14 x 512\n",
    "        layers.Conv2D(512, (3, 3), strides=1, padding='same', activation='relu'),\n",
    "        layers.Conv2D(512, (3, 3), strides=1, padding='same', activation='relu'),\n",
    "        layers.Conv2D(512, (3, 3), strides=1, padding='same', activation='relu'),\n",
    "\n",
    "        # 7 x 7 x 512\n",
    "        layers.MaxPool2D((2, 2), padding='same'),\n",
    "\n",
    "        # 1 x 1 x 25088\n",
    "        layers.Flatten(),\n",
    "        layers.Dropout(0.5),\n",
    "\n",
    "        # 1 x 1 x 4096\n",
    "        layers.Dense(4096, activation='relu'),\n",
    "\n",
    "        # 1 x 1 x 4096\n",
    "        layers.Dense(4096, activation='relu'),\n",
    "\n",
    "        # 1 x 1 x 1000\n",
    "        layers.Dense(1000, activation='relu'),\n",
    "\n",
    "        # 1 x 1 x 2\n",
    "        layers.Dense(2, activation='softmax'),\n",
    "    ])\n",
    "    model.compile(optimizer=tf.keras.optimizers.SGD(learning_rate=0.01),\n",
    "                  loss='categorical_crossentropy',\n",
    "                  metrics=['acc'])\n",
    "\n",
    "    return model"
   ]
  },
  {
   "cell_type": "markdown",
   "metadata": {},
   "source": [
    "## 데이터 전처리"
   ]
  },
  {
   "cell_type": "code",
   "execution_count": 4,
   "metadata": {},
   "outputs": [],
   "source": [
    "dataset_path = 'CatDogDataSet'\n",
    "train_dataset_path = dataset_path + '/train_set'\n",
    "valid_dataset_path = dataset_path + '/validation_set'"
   ]
  },
  {
   "cell_type": "code",
   "execution_count": 58,
   "metadata": {},
   "outputs": [],
   "source": [
    "import shutil\n",
    "\n",
    "# 데이터셋 분리(학습, 검증)\n",
    "dogs_fname = os.listdir(dataset_path + '/dogs')\n",
    "cats_fname = os.listdir(dataset_path + '/cats')\n",
    "\n",
    "for i in range(len(dogs_fname)):\n",
    "    try:\n",
    "        int(dogs_fname[i][4:8])\n",
    "    except:\n",
    "        continue\n",
    "    \n",
    "    if int(dogs_fname[i][4:8]) < 4801:\n",
    "        shutil.copyfile(dataset_path + '/dogs/' + dogs_fname[i], train_dataset_path + '/dogs/' + dogs_fname[i])\n",
    "    else:\n",
    "        shutil.copyfile(dataset_path + '/dogs/' + dogs_fname[i], valid_dataset_path + '/dogs/' + dogs_fname[i])\n",
    "\n",
    "for i in range(len(cats_fname)):\n",
    "    try:\n",
    "        int(cats_fname[i][4:8])\n",
    "    except:\n",
    "        continue\n",
    "    \n",
    "    if int(cats_fname[i][4:8]) < 4801:\n",
    "        shutil.copyfile(dataset_path + '/cats/' + cats_fname[i], train_dataset_path + '/cats/' + cats_fname[i])\n",
    "    else:\n",
    "        shutil.copyfile(dataset_path + '/cats/' + cats_fname[i], valid_dataset_path + '/cats/' + cats_fname[i])"
   ]
  },
  {
   "cell_type": "code",
   "execution_count": 59,
   "metadata": {},
   "outputs": [],
   "source": [
    "# 중복값 제거\n",
    "for i in os.listdir(train_dataset_path + '/cats'):\n",
    "    if len(i) > 12:\n",
    "        os.remove(train_dataset_path +'/cats/' + i)\n",
    "\n",
    "for i in os.listdir(valid_dataset_path+ '/cats'):\n",
    "    if len(i) > 12:\n",
    "        os.remove(valid_dataset_path+ '/cats/' + i)\n",
    "\n",
    "for i in os.listdir(train_dataset_path+ '/dogs'):\n",
    "    if len(i) > 12:\n",
    "        os.remove(train_dataset_path+'/dogs/'+i)\n",
    "\n",
    "for i in os.listdir(valid_dataset_path+ '/dogs'):\n",
    "    if len(i) > 12:\n",
    "        os.remove(valid_dataset_path+'/dogs/'+i)"
   ]
  },
  {
   "cell_type": "code",
   "execution_count": 10,
   "metadata": {},
   "outputs": [],
   "source": [
    "# 해상도 낮은 사진 제거\n",
    "from PIL import Image\n",
    "\n",
    "\n",
    "for i in os.listdir(train_dataset_path+ '/dogs'):\n",
    "    im = Image.open(train_dataset_path+'/dogs/'+i)\n",
    "    w, h = im.size\n",
    "    if w < 224 or h < 224:\n",
    "        os.remove(train_dataset_path+'/dogs/'+i)\n",
    "\n",
    "for i in os.listdir(valid_dataset_path+ '/dogs'):\n",
    "    im = Image.open(valid_dataset_path+'/dogs/'+i)\n",
    "    w, h = im.size\n",
    "    if w < 224 or h < 224:\n",
    "        os.remove(valid_dataset_path+'/dogs/'+i)\n",
    "\n",
    "for i in os.listdir(train_dataset_path + '/cats'):\n",
    "    im = Image.open(train_dataset_path+'/cats/'+i)\n",
    "    w, h = im.size\n",
    "    if w < 224 or h < 224:\n",
    "        os.remove(train_dataset_path+'/cats/'+i)\n",
    "\n",
    "for i in os.listdir(valid_dataset_path+ '/cats'):\n",
    "    im = Image.open(valid_dataset_path+'/cats/'+i)\n",
    "    w, h = im.size\n",
    "    if w < 224 or h < 224:\n",
    "        os.remove(valid_dataset_path+'/cats/'+i)"
   ]
  },
  {
   "cell_type": "code",
   "execution_count": 5,
   "metadata": {},
   "outputs": [
    {
     "name": "stdout",
     "output_type": "stream",
     "text": [
      "Found 1417 images belonging to 2 classes.\n",
      "Found 345 images belonging to 2 classes.\n"
     ]
    }
   ],
   "source": [
    "# Dataset (Kaggle Cat and Dog Dataset)\n",
    "train_data_generator = ImageDataGenerator(rescale=1. / 255)\n",
    "train_dataset = train_data_generator.flow_from_directory(train_dataset_path,\n",
    "                                                         shuffle=True,\n",
    "                                                         target_size=(224, 224),\n",
    "                                                         batch_size=32,\n",
    "                                                         class_mode='categorical')\n",
    "\n",
    "\n",
    "valid_data_generator = ImageDataGenerator(rescale=1. / 255)\n",
    "valid_dataset = valid_data_generator.flow_from_directory(valid_dataset_path,\n",
    "                                                         shuffle=True,\n",
    "                                                         target_size=(224, 224),\n",
    "                                                         batch_size=32,\n",
    "                                                         class_mode='categorical')\n"
   ]
  },
  {
   "cell_type": "markdown",
   "metadata": {},
   "source": [
    "### storage tank & others 전처리"
   ]
  },
  {
   "cell_type": "code",
   "execution_count": 5,
   "metadata": {},
   "outputs": [],
   "source": [
    "train_dataset_path = 'AID/train'\n",
    "valid_dataset_path = 'AID/valid'"
   ]
  },
  {
   "cell_type": "code",
   "execution_count": 6,
   "metadata": {},
   "outputs": [
    {
     "ename": "FileExistsError",
     "evalue": "[Errno 17] File exists: 'AID/train'",
     "output_type": "error",
     "traceback": [
      "\u001b[0;31m---------------------------------------------------------------------------\u001b[0m",
      "\u001b[0;31mFileExistsError\u001b[0m                           Traceback (most recent call last)",
      "\u001b[1;32m/workspaces/KARI_ML/VGG16.ipynb 셀 15\u001b[0m in \u001b[0;36m4\n\u001b[1;32m      <a href='vscode-notebook-cell://dev-container%2B7b22686f737450617468223a225c5c5c5c77736c2e6c6f63616c686f73745c5c5562756e74752d32302e30345c5c686f6d655c5c63686d735c5c4b4152495f4d4c222c22636f6e66696746696c65223a7b22246d6964223a312c2270617468223a222f686f6d652f63686d732f4b4152495f4d4c2f2e646576636f6e7461696e65722f646576636f6e7461696e65722e6a736f6e222c22736368656d65223a227673636f64652d66696c65486f7374227d7d/workspaces/KARI_ML/VGG16.ipynb#X25sdnNjb2RlLXJlbW90ZQ%3D%3D?line=0'>1</a>\u001b[0m \u001b[39m# train, valid 분리\u001b[39;00m\n\u001b[1;32m      <a href='vscode-notebook-cell://dev-container%2B7b22686f737450617468223a225c5c5c5c77736c2e6c6f63616c686f73745c5c5562756e74752d32302e30345c5c686f6d655c5c63686d735c5c4b4152495f4d4c222c22636f6e66696746696c65223a7b22246d6964223a312c2270617468223a222f686f6d652f63686d732f4b4152495f4d4c2f2e646576636f6e7461696e65722f646576636f6e7461696e65722e6a736f6e222c22736368656d65223a227673636f64652d66696c65486f7374227d7d/workspaces/KARI_ML/VGG16.ipynb#X25sdnNjb2RlLXJlbW90ZQ%3D%3D?line=1'>2</a>\u001b[0m cate \u001b[39m=\u001b[39m [\u001b[39m'\u001b[39m\u001b[39mIndustrial\u001b[39m\u001b[39m'\u001b[39m, \u001b[39m'\u001b[39m\u001b[39mStorageTanks\u001b[39m\u001b[39m'\u001b[39m]\n\u001b[0;32m----> <a href='vscode-notebook-cell://dev-container%2B7b22686f737450617468223a225c5c5c5c77736c2e6c6f63616c686f73745c5c5562756e74752d32302e30345c5c686f6d655c5c63686d735c5c4b4152495f4d4c222c22636f6e66696746696c65223a7b22246d6964223a312c2270617468223a222f686f6d652f63686d732f4b4152495f4d4c2f2e646576636f6e7461696e65722f646576636f6e7461696e65722e6a736f6e222c22736368656d65223a227673636f64652d66696c65486f7374227d7d/workspaces/KARI_ML/VGG16.ipynb#X25sdnNjb2RlLXJlbW90ZQ%3D%3D?line=3'>4</a>\u001b[0m os\u001b[39m.\u001b[39;49mmakedirs(\u001b[39m'\u001b[39;49m\u001b[39mAID/train\u001b[39;49m\u001b[39m'\u001b[39;49m)\n\u001b[1;32m      <a href='vscode-notebook-cell://dev-container%2B7b22686f737450617468223a225c5c5c5c77736c2e6c6f63616c686f73745c5c5562756e74752d32302e30345c5c686f6d655c5c63686d735c5c4b4152495f4d4c222c22636f6e66696746696c65223a7b22246d6964223a312c2270617468223a222f686f6d652f63686d732f4b4152495f4d4c2f2e646576636f6e7461696e65722f646576636f6e7461696e65722e6a736f6e222c22736368656d65223a227673636f64652d66696c65486f7374227d7d/workspaces/KARI_ML/VGG16.ipynb#X25sdnNjb2RlLXJlbW90ZQ%3D%3D?line=4'>5</a>\u001b[0m os\u001b[39m.\u001b[39mmakedirs(\u001b[39m'\u001b[39m\u001b[39mAID/valid\u001b[39m\u001b[39m'\u001b[39m)\n\u001b[1;32m      <a href='vscode-notebook-cell://dev-container%2B7b22686f737450617468223a225c5c5c5c77736c2e6c6f63616c686f73745c5c5562756e74752d32302e30345c5c686f6d655c5c63686d735c5c4b4152495f4d4c222c22636f6e66696746696c65223a7b22246d6964223a312c2270617468223a222f686f6d652f63686d732f4b4152495f4d4c2f2e646576636f6e7461696e65722f646576636f6e7461696e65722e6a736f6e222c22736368656d65223a227673636f64652d66696c65486f7374227d7d/workspaces/KARI_ML/VGG16.ipynb#X25sdnNjb2RlLXJlbW90ZQ%3D%3D?line=6'>7</a>\u001b[0m \u001b[39mfor\u001b[39;00m i \u001b[39min\u001b[39;00m cate:\n",
      "File \u001b[0;32m/usr/lib/python3.8/os.py:223\u001b[0m, in \u001b[0;36mmakedirs\u001b[0;34m(name, mode, exist_ok)\u001b[0m\n\u001b[1;32m    221\u001b[0m         \u001b[39mreturn\u001b[39;00m\n\u001b[1;32m    222\u001b[0m \u001b[39mtry\u001b[39;00m:\n\u001b[0;32m--> 223\u001b[0m     mkdir(name, mode)\n\u001b[1;32m    224\u001b[0m \u001b[39mexcept\u001b[39;00m \u001b[39mOSError\u001b[39;00m:\n\u001b[1;32m    225\u001b[0m     \u001b[39m# Cannot rely on checking for EEXIST, since the operating system\u001b[39;00m\n\u001b[1;32m    226\u001b[0m     \u001b[39m# could give priority to other errors like EACCES or EROFS\u001b[39;00m\n\u001b[1;32m    227\u001b[0m     \u001b[39mif\u001b[39;00m \u001b[39mnot\u001b[39;00m exist_ok \u001b[39mor\u001b[39;00m \u001b[39mnot\u001b[39;00m path\u001b[39m.\u001b[39misdir(name):\n",
      "\u001b[0;31mFileExistsError\u001b[0m: [Errno 17] File exists: 'AID/train'"
     ]
    }
   ],
   "source": [
    "# train, valid 분리\n",
    "cate = ['Industrial', 'StorageTanks']\n",
    "\n",
    "os.makedirs('AID/train')\n",
    "os.makedirs('AID/valid')\n",
    "\n",
    "for i in cate:\n",
    "    os.makedirs(f'AID/valid/{i}')\n",
    "    os.makedirs(f'AID/train/{i}')\n",
    "\n",
    "    tmp = os.listdir(f'AID/{i}')\n",
    "    for j in tmp[:50]:\n",
    "        shutil.copyfile(f'AID/{i}/{j}', f'AID/valid/{i}/{j}')\n",
    "    for j in tmp[50:]:\n",
    "        shutil.copyfile(f'AID/{i}/{j}', f'AID/train/{i}/{j}')\n",
    "\n",
    "    "
   ]
  },
  {
   "cell_type": "code",
   "execution_count": 7,
   "metadata": {},
   "outputs": [
    {
     "name": "stdout",
     "output_type": "stream",
     "text": [
      "Found 650 images belonging to 2 classes.\n",
      "Found 100 images belonging to 2 classes.\n"
     ]
    }
   ],
   "source": [
    "# Dataset (storage tank & others)\n",
    "train_data_generator = ImageDataGenerator(rescale=1. / 255)\n",
    "train_dataset = train_data_generator.flow_from_directory(train_dataset_path,\n",
    "                                                         shuffle=True,\n",
    "                                                         target_size=(224, 224),\n",
    "                                                         batch_size=32,\n",
    "                                                         class_mode='categorical')\n",
    "\n",
    "\n",
    "valid_data_generator = ImageDataGenerator(rescale=1. / 255)\n",
    "valid_dataset = valid_data_generator.flow_from_directory(valid_dataset_path,\n",
    "                                                         shuffle=True,\n",
    "                                                         target_size=(224, 224),\n",
    "                                                         batch_size=32,\n",
    "                                                         class_mode='categorical')"
   ]
  },
  {
   "cell_type": "markdown",
   "metadata": {},
   "source": [
    "## 학습"
   ]
  },
  {
   "cell_type": "code",
   "execution_count": 8,
   "metadata": {},
   "outputs": [
    {
     "name": "stdout",
     "output_type": "stream",
     "text": [
      "Epoch 1/100\n",
      "21/21 [==============================] - 40s 1s/step - loss: 0.6929 - acc: 0.5138 - val_loss: 0.6932 - val_acc: 0.5000\n",
      "Epoch 2/100\n",
      "21/21 [==============================] - 14s 641ms/step - loss: 0.6925 - acc: 0.5231 - val_loss: 0.6933 - val_acc: 0.5000\n",
      "Epoch 3/100\n",
      "21/21 [==============================] - 14s 641ms/step - loss: 0.6923 - acc: 0.5231 - val_loss: 0.6934 - val_acc: 0.5000\n",
      "Epoch 4/100\n",
      "21/21 [==============================] - 14s 640ms/step - loss: 0.6924 - acc: 0.5231 - val_loss: 0.6934 - val_acc: 0.5000\n",
      "Epoch 5/100\n",
      "21/21 [==============================] - 14s 642ms/step - loss: 0.6922 - acc: 0.5231 - val_loss: 0.6935 - val_acc: 0.5000\n",
      "Epoch 6/100\n",
      "21/21 [==============================] - 14s 643ms/step - loss: 0.6920 - acc: 0.5231 - val_loss: 0.6936 - val_acc: 0.5000\n",
      "Epoch 7/100\n",
      "21/21 [==============================] - 14s 647ms/step - loss: 0.6920 - acc: 0.5231 - val_loss: 0.6936 - val_acc: 0.5000\n",
      "Epoch 8/100\n",
      "21/21 [==============================] - 14s 647ms/step - loss: 0.6919 - acc: 0.5231 - val_loss: 0.6936 - val_acc: 0.5000\n",
      "Epoch 9/100\n",
      "21/21 [==============================] - 14s 651ms/step - loss: 0.6918 - acc: 0.5231 - val_loss: 0.6935 - val_acc: 0.5000\n",
      "Epoch 10/100\n",
      "21/21 [==============================] - 17s 799ms/step - loss: 0.6918 - acc: 0.5231 - val_loss: 0.6932 - val_acc: 0.5000\n",
      "Epoch 11/100\n",
      "21/21 [==============================] - 14s 645ms/step - loss: 0.6916 - acc: 0.5231 - val_loss: 0.6935 - val_acc: 0.5000\n",
      "Epoch 12/100\n",
      "21/21 [==============================] - 14s 646ms/step - loss: 0.6916 - acc: 0.5231 - val_loss: 0.6935 - val_acc: 0.5000\n",
      "Epoch 13/100\n",
      "21/21 [==============================] - 14s 645ms/step - loss: 0.6915 - acc: 0.5231 - val_loss: 0.6936 - val_acc: 0.5000\n",
      "Epoch 14/100\n",
      "21/21 [==============================] - 14s 644ms/step - loss: 0.6912 - acc: 0.5231 - val_loss: 0.6932 - val_acc: 0.5000\n",
      "Epoch 15/100\n",
      "21/21 [==============================] - 15s 729ms/step - loss: 0.6910 - acc: 0.5231 - val_loss: 0.6926 - val_acc: 0.5000\n",
      "Epoch 16/100\n",
      "21/21 [==============================] - 16s 756ms/step - loss: 0.6910 - acc: 0.5231 - val_loss: 0.6925 - val_acc: 0.5000\n",
      "Epoch 17/100\n",
      "21/21 [==============================] - 15s 730ms/step - loss: 0.6910 - acc: 0.5231 - val_loss: 0.6924 - val_acc: 0.5000\n",
      "Epoch 18/100\n",
      "21/21 [==============================] - 16s 743ms/step - loss: 0.6904 - acc: 0.5231 - val_loss: 0.6921 - val_acc: 0.5000\n",
      "Epoch 19/100\n",
      "21/21 [==============================] - 16s 730ms/step - loss: 0.6902 - acc: 0.5231 - val_loss: 0.6915 - val_acc: 0.5000\n",
      "Epoch 20/100\n",
      "21/21 [==============================] - 16s 744ms/step - loss: 0.6898 - acc: 0.5231 - val_loss: 0.6913 - val_acc: 0.5000\n",
      "Epoch 21/100\n",
      "21/21 [==============================] - 16s 737ms/step - loss: 0.6897 - acc: 0.5231 - val_loss: 0.6906 - val_acc: 0.5000\n",
      "Epoch 22/100\n",
      "21/21 [==============================] - 19s 925ms/step - loss: 0.6894 - acc: 0.5231 - val_loss: 0.6900 - val_acc: 0.5000\n",
      "Epoch 23/100\n",
      "21/21 [==============================] - 21s 964ms/step - loss: 0.6888 - acc: 0.5231 - val_loss: 0.6898 - val_acc: 0.5000\n",
      "Epoch 24/100\n",
      "21/21 [==============================] - 20s 923ms/step - loss: 0.6885 - acc: 0.5231 - val_loss: 0.6900 - val_acc: 0.5000\n",
      "Epoch 25/100\n",
      "21/21 [==============================] - 22s 1s/step - loss: 0.6876 - acc: 0.5231 - val_loss: 0.6893 - val_acc: 0.5000\n",
      "Epoch 26/100\n",
      "21/21 [==============================] - 18s 858ms/step - loss: 0.6873 - acc: 0.5231 - val_loss: 0.6878 - val_acc: 0.5000\n",
      "Epoch 27/100\n",
      "21/21 [==============================] - 16s 768ms/step - loss: 0.6868 - acc: 0.5231 - val_loss: 0.6898 - val_acc: 0.5000\n",
      "Epoch 28/100\n",
      "21/21 [==============================] - 16s 761ms/step - loss: 0.6858 - acc: 0.5231 - val_loss: 0.6882 - val_acc: 0.5000\n",
      "Epoch 29/100\n",
      "21/21 [==============================] - 18s 877ms/step - loss: 0.6862 - acc: 0.5400 - val_loss: 0.6871 - val_acc: 0.5000\n",
      "Epoch 30/100\n",
      "21/21 [==============================] - 16s 766ms/step - loss: 0.6866 - acc: 0.5200 - val_loss: 0.6892 - val_acc: 0.5000\n",
      "Epoch 31/100\n",
      "21/21 [==============================] - 16s 764ms/step - loss: 0.6837 - acc: 0.5415 - val_loss: 0.6903 - val_acc: 0.5000\n",
      "Epoch 32/100\n",
      "21/21 [==============================] - 18s 838ms/step - loss: 0.6840 - acc: 0.5338 - val_loss: 0.6803 - val_acc: 0.6100\n",
      "Epoch 33/100\n",
      "21/21 [==============================] - 16s 764ms/step - loss: 0.6824 - acc: 0.5877 - val_loss: 0.6804 - val_acc: 0.5400\n",
      "Epoch 34/100\n",
      "21/21 [==============================] - 18s 837ms/step - loss: 0.6801 - acc: 0.5954 - val_loss: 0.6762 - val_acc: 0.6200\n",
      "Epoch 35/100\n",
      "21/21 [==============================] - 16s 763ms/step - loss: 0.6802 - acc: 0.5954 - val_loss: 0.6813 - val_acc: 0.5300\n",
      "Epoch 36/100\n",
      "21/21 [==============================] - 18s 846ms/step - loss: 0.6791 - acc: 0.5769 - val_loss: 0.6744 - val_acc: 0.5400\n",
      "Epoch 37/100\n",
      "21/21 [==============================] - 16s 766ms/step - loss: 0.6736 - acc: 0.6200 - val_loss: 0.6917 - val_acc: 0.5100\n",
      "Epoch 38/100\n",
      "21/21 [==============================] - 20s 959ms/step - loss: 0.6741 - acc: 0.6108 - val_loss: 0.6644 - val_acc: 0.6900\n",
      "Epoch 39/100\n",
      "21/21 [==============================] - 17s 781ms/step - loss: 0.6736 - acc: 0.5985 - val_loss: 0.6952 - val_acc: 0.5100\n",
      "Epoch 40/100\n",
      "21/21 [==============================] - 20s 801ms/step - loss: 0.6718 - acc: 0.6138 - val_loss: 0.6823 - val_acc: 0.5300\n",
      "Epoch 41/100\n",
      "21/21 [==============================] - 16s 763ms/step - loss: 0.6708 - acc: 0.6077 - val_loss: 0.6727 - val_acc: 0.5500\n",
      "Epoch 42/100\n",
      "21/21 [==============================] - 16s 760ms/step - loss: 0.6613 - acc: 0.6400 - val_loss: 0.6757 - val_acc: 0.5200\n",
      "Epoch 43/100\n",
      "21/21 [==============================] - 17s 790ms/step - loss: 0.6703 - acc: 0.6015 - val_loss: 0.6763 - val_acc: 0.5300\n",
      "Epoch 44/100\n",
      "21/21 [==============================] - 22s 1s/step - loss: 0.6740 - acc: 0.6015 - val_loss: 0.6616 - val_acc: 0.5900\n",
      "Epoch 45/100\n",
      "21/21 [==============================] - 20s 955ms/step - loss: 0.6614 - acc: 0.6185 - val_loss: 0.6465 - val_acc: 0.6500\n",
      "Epoch 46/100\n",
      "21/21 [==============================] - 18s 864ms/step - loss: 0.6526 - acc: 0.6415 - val_loss: 0.6422 - val_acc: 0.6500\n",
      "Epoch 47/100\n",
      "21/21 [==============================] - 19s 882ms/step - loss: 0.6667 - acc: 0.5769 - val_loss: 0.6400 - val_acc: 0.6900\n",
      "Epoch 48/100\n",
      "21/21 [==============================] - 16s 793ms/step - loss: 0.6477 - acc: 0.6169 - val_loss: 0.6615 - val_acc: 0.6000\n",
      "Epoch 49/100\n",
      "21/21 [==============================] - 16s 761ms/step - loss: 0.6559 - acc: 0.5923 - val_loss: 0.6493 - val_acc: 0.6000\n",
      "Epoch 50/100\n",
      "21/21 [==============================] - 16s 762ms/step - loss: 0.6409 - acc: 0.6277 - val_loss: 0.7324 - val_acc: 0.5000\n",
      "Epoch 51/100\n",
      "21/21 [==============================] - 18s 845ms/step - loss: 0.6742 - acc: 0.5892 - val_loss: 0.6338 - val_acc: 0.7100\n",
      "Epoch 52/100\n",
      "21/21 [==============================] - 16s 766ms/step - loss: 0.6322 - acc: 0.6462 - val_loss: 0.6502 - val_acc: 0.5600\n",
      "Epoch 53/100\n",
      "21/21 [==============================] - 20s 931ms/step - loss: 0.6287 - acc: 0.6523 - val_loss: 0.6275 - val_acc: 0.6400\n",
      "Epoch 54/100\n",
      "21/21 [==============================] - 17s 836ms/step - loss: 0.6280 - acc: 0.6446 - val_loss: 0.7461 - val_acc: 0.5000\n",
      "Epoch 55/100\n",
      "21/21 [==============================] - 16s 764ms/step - loss: 0.6733 - acc: 0.5969 - val_loss: 0.6648 - val_acc: 0.5500\n",
      "Epoch 56/100\n",
      "21/21 [==============================] - 16s 765ms/step - loss: 0.6446 - acc: 0.6415 - val_loss: 0.6331 - val_acc: 0.6500\n",
      "Epoch 57/100\n",
      "21/21 [==============================] - 16s 790ms/step - loss: 0.6066 - acc: 0.7046 - val_loss: 0.6650 - val_acc: 0.6200\n",
      "Epoch 58/100\n",
      "21/21 [==============================] - 16s 763ms/step - loss: 0.6745 - acc: 0.5615 - val_loss: 0.7137 - val_acc: 0.5300\n",
      "Epoch 59/100\n",
      "21/21 [==============================] - 16s 767ms/step - loss: 0.6146 - acc: 0.6738 - val_loss: 0.6484 - val_acc: 0.6300\n",
      "Epoch 60/100\n",
      "21/21 [==============================] - 16s 764ms/step - loss: 0.6390 - acc: 0.6277 - val_loss: 0.6459 - val_acc: 0.6100\n",
      "Epoch 61/100\n",
      "21/21 [==============================] - 16s 765ms/step - loss: 0.6081 - acc: 0.6785 - val_loss: 0.7256 - val_acc: 0.5300\n",
      "Epoch 62/100\n",
      "21/21 [==============================] - 16s 768ms/step - loss: 0.6189 - acc: 0.6723 - val_loss: 0.6396 - val_acc: 0.6200\n",
      "Epoch 63/100\n",
      "21/21 [==============================] - 17s 823ms/step - loss: 0.6151 - acc: 0.6569 - val_loss: 0.7595 - val_acc: 0.5300\n"
     ]
    }
   ],
   "source": [
    "model = VGG16()\n",
    "\n",
    "checkpoint_filepath = \"logs/VGG/\"\n",
    "checkpoint_callback = tf.keras.callbacks.ModelCheckpoint(\n",
    "    checkpoint_filepath,\n",
    "    monitor=\"val_loss\",\n",
    "    save_best_only=True,\n",
    "    save_weights_only=True,\n",
    ")\n",
    "\n",
    "\n",
    "train = model.fit(train_dataset, epochs=100, validation_data=valid_dataset, \n",
    "                  callbacks=[\n",
    "                        checkpoint_callback,\n",
    "                        tf.keras.callbacks.EarlyStopping(monitor=\"val_loss\", patience=10),\n",
    "                    ],)"
   ]
  },
  {
   "cell_type": "markdown",
   "metadata": {},
   "source": [
    "## 평가"
   ]
  },
  {
   "cell_type": "code",
   "execution_count": 9,
   "metadata": {},
   "outputs": [
    {
     "name": "stdout",
     "output_type": "stream",
     "text": [
      "Saved Accuracy graph\n",
      "Saved Loss graph\n"
     ]
    },
    {
     "data": {
      "image/png": "[encoded data removed]",
      "text/plain": [
       "<Figure size 640x480 with 1 Axes>"
      ]
     },
     "metadata": {},
     "output_type": "display_data"
    },
    {
     "data": {
      "image/png": "[encoded data removed]",
      "text/plain": [
       "<Figure size 640x480 with 1 Axes>"
      ]
     },
     "metadata": {},
     "output_type": "display_data"
    }
   ],
   "source": [
    "# Accuracy graph\n",
    "plt.figure(1)\n",
    "plt.plot(train.history['acc'])\n",
    "plt.plot(train.history['val_acc'])\n",
    "plt.title('Accuracy')\n",
    "plt.ylabel('accuracy')\n",
    "plt.xlabel('epoch')\n",
    "plt.legend(['train', 'validation'], loc='upper left')\n",
    "plt.savefig('VGG16_Accuracy_1.png')\n",
    "print(\"Saved Accuracy graph\")\n",
    "\n",
    "# Loss graph\n",
    "plt.figure(2)\n",
    "plt.plot(train.history['loss'])\n",
    "plt.plot(train.history['val_loss'])\n",
    "plt.title('Loss')\n",
    "plt.ylabel('loss')\n",
    "plt.xlabel('epoch')\n",
    "plt.legend(['train', 'validation'], loc='upper left')\n",
    "plt.savefig('VGG16_Loss_1.png')\n",
    "print(\"Saved Loss graph\")\n",
    "\n",
    "plt.show()"
   ]
  },
  {
   "cell_type": "markdown",
   "metadata": {},
   "source": [
    "### 모델 저장"
   ]
  },
  {
   "cell_type": "code",
   "execution_count": 15,
   "metadata": {},
   "outputs": [
    {
     "data": {
      "text/plain": [
       "<tensorflow.python.checkpoint.checkpoint.CheckpointLoadStatus at 0x7f5da03deeb0>"
      ]
     },
     "execution_count": 15,
     "metadata": {},
     "output_type": "execute_result"
    }
   ],
   "source": [
    "tmp = VGG16()\n",
    "\n",
    "tmp.load_weights(checkpoint_filepath)"
   ]
  },
  {
   "cell_type": "code",
   "execution_count": 18,
   "metadata": {},
   "outputs": [
    {
     "name": "stdout",
     "output_type": "stream",
     "text": [
      "4/4 [==============================] - 1s 152ms/step - loss: 0.6275 - acc: 0.6400\n"
     ]
    }
   ],
   "source": [
    "loss, acc = tmp.evaluate(valid_dataset)"
   ]
  },
  {
   "cell_type": "code",
   "execution_count": 19,
   "metadata": {},
   "outputs": [],
   "source": [
    "tmp.save('VGG16.h5')"
   ]
  },
  {
   "cell_type": "code",
   "execution_count": 21,
   "metadata": {},
   "outputs": [
    {
     "name": "stdout",
     "output_type": "stream",
     "text": [
      "Found 30 images belonging to 1 classes.\n"
     ]
    }
   ],
   "source": [
    "# test set 생성\n",
    "\n",
    "test_data_generator = ImageDataGenerator(rescale=1. / 255)\n",
    "test_dataset = test_data_generator.flow_from_directory('oiltank_dataset/tmp',\n",
    "                                                         shuffle=True,\n",
    "                                                         target_size=(224, 224),\n",
    "                                                         batch_size=32,\n",
    "                                                         class_mode='categorical')"
   ]
  },
  {
   "cell_type": "code",
   "execution_count": 22,
   "metadata": {},
   "outputs": [
    {
     "name": "stdout",
     "output_type": "stream",
     "text": [
      "1/1 [==============================] - 10s 10s/step\n"
     ]
    },
    {
     "data": {
      "text/plain": [
       "array([[0.3551239 , 0.64487606],\n",
       "       [0.34995356, 0.65004647],\n",
       "       [0.35576832, 0.6442317 ],\n",
       "       [0.35392722, 0.6460728 ],\n",
       "       [0.34471112, 0.6552888 ],\n",
       "       [0.35368145, 0.64631855],\n",
       "       [0.35477135, 0.6452286 ],\n",
       "       [0.3564339 , 0.6435661 ],\n",
       "       [0.3711305 , 0.6288695 ],\n",
       "       [0.3545768 , 0.64542323],\n",
       "       [0.361169  , 0.638831  ],\n",
       "       [0.35465136, 0.6453486 ],\n",
       "       [0.354304  , 0.64569604],\n",
       "       [0.35522822, 0.6447718 ],\n",
       "       [0.3560721 , 0.64392793],\n",
       "       [0.35390157, 0.6460985 ],\n",
       "       [0.35434404, 0.645656  ],\n",
       "       [0.35581753, 0.6441825 ],\n",
       "       [0.35205066, 0.6479494 ],\n",
       "       [0.36197037, 0.63802963],\n",
       "       [0.34807307, 0.65192693],\n",
       "       [0.36137134, 0.6386286 ],\n",
       "       [0.35507178, 0.64492816],\n",
       "       [0.3548185 , 0.64518154],\n",
       "       [0.35462222, 0.64537776],\n",
       "       [0.35274735, 0.6472527 ],\n",
       "       [0.36154363, 0.63845634],\n",
       "       [0.3513146 , 0.6486854 ],\n",
       "       [0.353827  , 0.64617306],\n",
       "       [0.35505602, 0.64494395]], dtype=float32)"
      ]
     },
     "execution_count": 22,
     "metadata": {},
     "output_type": "execute_result"
    }
   ],
   "source": [
    "a = tmp.predict(test_dataset)"
   ]
  }
 ],
 "metadata": {
  "kernelspec": {
   "display_name": "Python 3",
   "language": "python",
   "name": "python3"
  },
  "language_info": {
   "codemirror_mode": {
    "name": "ipython",
    "version": 3
   },
   "file_extension": ".py",
   "mimetype": "text/x-python",
   "name": "python",
   "nbconvert_exporter": "python",
   "pygments_lexer": "ipython3",
   "version": "3.8.10"
  },
  "orig_nbformat": 4
 },
 "nbformat": 4,
 "nbformat_minor": 2
}
